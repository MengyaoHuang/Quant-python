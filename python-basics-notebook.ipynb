{
 "cells": [
  {
   "cell_type": "markdown",
   "metadata": {},
   "source": [
    "# Python Basics\n",
    "\n",
    "This is a collection of exercises that I wrote as a refresher of key Python features.\n",
    "\n",
    "## Built-in datatypes and variable binding\n",
    "Python uses <a href=“”>late/runtime/dynamic binding</a>. This means that the type of data in a variable is not explicitly identified in a program, like it is in C++ or Java.\""
   ]
  },
  {
   "cell_type": "code",
   "execution_count": 5,
   "metadata": {},
   "outputs": [
    {
     "ename": "SyntaxError",
     "evalue": "invalid syntax (<ipython-input-5-1a2e99ae7da0>, line 3)",
     "output_type": "error",
     "traceback": [
      "\u001b[1;36m  File \u001b[1;32m\"<ipython-input-5-1a2e99ae7da0>\"\u001b[1;36m, line \u001b[1;32m3\u001b[0m\n\u001b[1;33m    print type(1.0)\u001b[0m\n\u001b[1;37m             ^\u001b[0m\n\u001b[1;31mSyntaxError\u001b[0m\u001b[1;31m:\u001b[0m invalid syntax\n"
     ]
    }
   ],
   "source": [
    "x = 2\n",
    "print(x), type(x)\n",
    "print type(1.0)\n",
    "x = x + 1.0\n",
    "print(x), type(x)\n",
    "x = 'QFRM'\n",
    "print(x), type(x)\n",
    "x = False\n",
    "x = not x\n",
    "print(x), type(x)\n",
    "print 2**100, type(2**100)\n",
    "x=['a', 2, 3.14, not False]\n",
    "x, type(x)"
   ]
  },
  {
   "cell_type": "markdown",
   "metadata": {},
   "source": [
    "## ints and floats"
   ]
  },
  {
   "cell_type": "code",
   "execution_count": 1,
   "metadata": {},
   "outputs": [
    {
     "name": "stdout",
     "output_type": "stream",
     "text": [
      "7//2= 3\n",
      "7%2= 1\n",
      "7.0/2= 3.5\n"
     ]
    }
   ],
   "source": [
    "print (\"7//2=\",7//2) #using ints and floats to calculate\n",
    "print (\"7%2=\",7%2)\n",
    "print (\"7.0/2=\",7.0/2)"
   ]
  },
  {
   "cell_type": "markdown",
   "metadata": {},
   "source": [
    "### boolean\n",
    "\n",
    "Python's boolean values are True and False. It is case-sensitive: capitalizing the first letter is required. "
   ]
  },
  {
   "cell_type": "code",
   "execution_count": 2,
   "metadata": {},
   "outputs": [
    {
     "name": "stdout",
     "output_type": "stream",
     "text": [
      "a is  True\n",
      "b is  False\n",
      "a and b is False\n",
      "a or b is True\n"
     ]
    }
   ],
   "source": [
    "a = True\n",
    "b= not a\n",
    "print('a is ',a)\n",
    "print('b is ',b)\n",
    "print('a and b is', a and b)\n",
    "print('a or b is', a or b)"
   ]
  },
  {
   "cell_type": "markdown",
   "metadata": {},
   "source": [
    "### Strings"
   ]
  },
  {
   "cell_type": "code",
   "execution_count": 3,
   "metadata": {},
   "outputs": [
    {
     "name": "stdout",
     "output_type": "stream",
     "text": [
      "Hello,World\n",
      "['Hello,World']\n",
      "Hello,World\n"
     ]
    }
   ],
   "source": [
    "a='Hello'\n",
    "b='World'\n",
    "c=a+','+b\n",
    "print(c)\n",
    "words=c.split()\n",
    "print(words)\n",
    "print(','.join(words))"
   ]
  },
  {
   "cell_type": "markdown",
   "metadata": {},
   "source": [
    "### Lists and tuples"
   ]
  },
  {
   "cell_type": "code",
   "execution_count": 4,
   "metadata": {},
   "outputs": [
    {
     "name": "stdout",
     "output_type": "stream",
     "text": [
      "[10, 11, 12, 13, 14]\n",
      "[12, 13, 14, 15]\n",
      "[10, 11, 12]\n",
      "[15, 14, 13, 12, 11, 10]\n",
      "15\n"
     ]
    }
   ],
   "source": [
    "#shortcut for list of consecutive integers\n",
    "x=range(10,15)\n",
    "list(x)\n",
    "print(list(x))\n",
    "x[0:3]\n",
    "x=[10,11,12,13,14,15]\n",
    "print(x[2:])\n",
    "x[:3]\n",
    "print(x[:3])\n",
    "print(x[::-1])\n",
    "print(x[-1])\n",
    "\n",
    "#slices\n"
   ]
  },
  {
   "cell_type": "code",
   "execution_count": 5,
   "metadata": {},
   "outputs": [
    {
     "data": {
      "text/plain": [
       "[(0, 0, 0),\n",
       " (1, 1, 1),\n",
       " (2, 4, 8),\n",
       " (3, 9, 27),\n",
       " (4, 16, 64),\n",
       " (5, 25, 125),\n",
       " (6, 36, 216),\n",
       " (7, 49, 343),\n",
       " (8, 64, 512),\n",
       " (9, 81, 729)]"
      ]
     },
     "execution_count": 5,
     "metadata": {},
     "output_type": "execute_result"
    }
   ],
   "source": [
    "#List comprehension\n",
    "# create a list of squares for integers 0 to 9\n",
    "[x*x for x in range(10) ]\n",
    "# create a list of tuples (x, x*x) for integers 0 to 9\n",
    "[(x,x*x) for x in range(10) ]\n",
    "# create a list of tuples (x, x*x, x**3) for integers 0 to 9\n",
    "[(x,x*x,x**3) for x in range(10) ]"
   ]
  },
  {
   "cell_type": "markdown",
   "metadata": {},
   "source": [
    "## Looping (for, while, reduce)"
   ]
  },
  {
   "cell_type": "code",
   "execution_count": 32,
   "metadata": {},
   "outputs": [
    {
     "name": "stdout",
     "output_type": "stream",
     "text": [
      "5050\n"
     ]
    }
   ],
   "source": [
    "#for\n",
    "#sum integers from 1 to 100\n",
    "sum_= 0\n",
    "for i in range(1,101):\n",
    "    sum_+=i\n",
    "print(sum_)"
   ]
  },
  {
   "cell_type": "code",
   "execution_count": 33,
   "metadata": {},
   "outputs": [
    {
     "name": "stdout",
     "output_type": "stream",
     "text": [
      "5050\n"
     ]
    }
   ],
   "source": [
    "#while\n",
    "#sum integers from 1 to 100\n",
    "sum_=0\n",
    "i=1\n",
    "while i<101:\n",
    "    sum_+=i\n",
    "    i=i+1\n",
    "sum_\n"
   ]
  },
  {
   "cell_type": "code",
   "execution_count": 6,
   "metadata": {},
   "outputs": [
    {
     "data": {
      "text/plain": [
       "5050"
      ]
     },
     "execution_count": 6,
     "metadata": {},
     "output_type": "execute_result"
    }
   ],
   "source": [
    "#concise way to sum integers from 1 to 100 using reduce\n",
    "\n",
    "import functools\n",
    "functools.reduce(lambda i, sum_: i+sum_, range(1,101))"
   ]
  },
  {
   "cell_type": "code",
   "execution_count": 7,
   "metadata": {},
   "outputs": [
    {
     "data": {
      "text/plain": [
       "5050"
      ]
     },
     "execution_count": 7,
     "metadata": {},
     "output_type": "execute_result"
    }
   ],
   "source": [
    "#use the sum function\n",
    "sum(range(1,101))"
   ]
  },
  {
   "cell_type": "code",
   "execution_count": 8,
   "metadata": {},
   "outputs": [
    {
     "data": {
      "text/plain": [
       "5050.0"
      ]
     },
     "execution_count": 8,
     "metadata": {},
     "output_type": "execute_result"
    }
   ],
   "source": [
    "#preferred way to sum floating point (faster) using fsum\n",
    "import math\n",
    "math.fsum(range(1,101))"
   ]
  },
  {
   "cell_type": "markdown",
   "metadata": {},
   "source": [
    "### Conditional execution (if)\n"
   ]
  },
  {
   "cell_type": "code",
   "execution_count": 10,
   "metadata": {},
   "outputs": [
    {
     "name": "stdout",
     "output_type": "stream",
     "text": [
      "0.6937649844007154is the above quartile\n"
     ]
    }
   ],
   "source": [
    "#if\n",
    "import random\n",
    "r=random.random()\n",
    "if r<0.25:\n",
    "    print(str(r) + 'is the bottom  quartile') \n",
    "else:\n",
    "    print(str(r)+ 'is the above quartile') "
   ]
  },
  {
   "cell_type": "markdown",
   "metadata": {},
   "source": [
    "### Dictionaries"
   ]
  },
  {
   "cell_type": "code",
   "execution_count": 11,
   "metadata": {},
   "outputs": [
    {
     "data": {
      "text/plain": [
       "160"
      ]
     },
     "execution_count": 11,
     "metadata": {},
     "output_type": "execute_result"
    }
   ],
   "source": [
    "prices={'AMAN':985, 'APPL':160, 'FB':168}\n",
    "prices['APPL']"
   ]
  },
  {
   "cell_type": "code",
   "execution_count": 12,
   "metadata": {},
   "outputs": [
    {
     "data": {
      "text/plain": [
       "{'0': 28,\n",
       " '1': 34,\n",
       " '2': 23,\n",
       " '3': 25,\n",
       " '4': 35,\n",
       " '5': 35,\n",
       " '6': 34,\n",
       " '7': 35,\n",
       " '8': 30,\n",
       " '9': 23}"
      ]
     },
     "execution_count": 12,
     "metadata": {},
     "output_type": "execute_result"
    }
   ],
   "source": [
    "#distribution of characters in a string\n",
    "s = \"The quick brown fox jumps over the lazy dog.\"\n",
    "s=str(2**1000)\n",
    "charToCountDictionary = {c:0 for c in s}\n",
    "for c in s:\n",
    "    charToCountDictionary[c] +=1\n",
    "charToCountDictionary"
   ]
  },
  {
   "cell_type": "markdown",
   "metadata": {},
   "source": [
    "## Functions"
   ]
  },
  {
   "cell_type": "code",
   "execution_count": 13,
   "metadata": {},
   "outputs": [
    {
     "name": "stdout",
     "output_type": "stream",
     "text": [
      "0! = 1\n",
      "1! = 1\n",
      "2! = 2\n",
      "3! = 6\n",
      "4! = 24\n"
     ]
    }
   ],
   "source": [
    "def factorial(n):\n",
    "    if n==0:\n",
    "        return 1\n",
    "    else:\n",
    "        return n*factorial(n-1)\n",
    "for n in range(0,5):\n",
    "    print(str(n) +\"! =\", factorial(n))"
   ]
  },
  {
   "cell_type": "code",
   "execution_count": 15,
   "metadata": {},
   "outputs": [
    {
     "name": "stdout",
     "output_type": "stream",
     "text": [
      "None\n"
     ]
    }
   ],
   "source": [
    "def gcd(a, b):\n",
    "    ...\n",
    "\n",
    "print(gcd(144, 256))"
   ]
  },
  {
   "cell_type": "code",
   "execution_count": null,
   "metadata": {
    "collapsed": true
   },
   "outputs": [],
   "source": []
  }
 ],
 "metadata": {
  "kernelspec": {
   "display_name": "Python 3",
   "language": "python",
   "name": "python3"
  },
  "language_info": {
   "codemirror_mode": {
    "name": "ipython",
    "version": 3
   },
   "file_extension": ".py",
   "mimetype": "text/x-python",
   "name": "python",
   "nbconvert_exporter": "python",
   "pygments_lexer": "ipython3",
   "version": "3.6.1"
  }
 },
 "nbformat": 4,
 "nbformat_minor": 1
}

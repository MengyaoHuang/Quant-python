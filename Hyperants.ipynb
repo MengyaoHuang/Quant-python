{
 "cells": [
  {
   "cell_type": "markdown",
   "metadata": {},
   "source": [
    "#  Hyper-ants:ants traveling in hyperspace\n",
    "\n",
    "An ant  is at the orgin in n-dimensional Euclidean space, and is about to traverse the edges of a hypercube with sides of unit length. At each vertex, the ant randomly chooses an edge, and moves to the next vertex. On average, how far will the ant travel until it reaches(1,1,...1)?\n"
   ]
  },
  {
   "cell_type": "code",
   "execution_count": 29,
   "metadata": {},
   "outputs": [
    {
     "name": "stdout",
     "output_type": "stream",
     "text": [
      "12\n",
      "[12, 36, 6, 14, 12, 4, 20, 8, 4, 6, 4, 10, 8, 22, 10, 14, 8, 4, 10, 26, 14, 14, 4, 4, 24, 8, 6, 10, 4, 22, 8, 4, 16, 8, 22, 12, 4, 32, 4, 12, 18, 14, 10, 6, 4, 30, 6, 10, 6, 8, 18, 16, 18, 18, 30, 4, 6, 4, 4, 6, 10, 14, 16, 8, 4, 12, 4, 20, 6, 8, 8, 8, 20, 12, 18, 8, 12, 6, 6, 4, 4, 8, 4, 4, 20, 8, 4, 12, 4, 4, 4, 6, 6, 14, 4, 10, 28, 8, 14, 20]\n"
     ]
    },
    {
     "data": {
      "text/plain": [
       "{4: 25,\n",
       " 6: 13,\n",
       " 8: 15,\n",
       " 10: 8,\n",
       " 12: 8,\n",
       " 14: 8,\n",
       " 16: 3,\n",
       " 18: 5,\n",
       " 20: 5,\n",
       " 22: 3,\n",
       " 24: 1,\n",
       " 26: 1,\n",
       " 28: 1,\n",
       " 30: 2,\n",
       " 32: 1,\n",
       " 36: 1}"
      ]
     },
     "execution_count": 29,
     "metadata": {},
     "output_type": "execute_result"
    }
   ],
   "source": [
    "import random\n",
    "\n",
    "def sum_workaround(vertex):\n",
    "    sum_ = 0\n",
    "    for coordinate in vertex:\n",
    "        sum_ = sum_ + coordinate\n",
    "    return sum_\n",
    "\n",
    "def number_of_moves(dimension):\n",
    "    move_count = 1\n",
    "    #return the number of moves needed for\n",
    "    #one simulated trip by the ant.\n",
    "    vertex = [0]*dimension #initialize\n",
    "    while sum_workaround(vertex)< dimension:\n",
    "        axis_choice = random.randint(0, dimension-1) #to create random int numbers\n",
    "      #  if vertex(axis_choice) == 0:\n",
    "      #      vertex(axis_choice) == 1\n",
    "      #  else:\n",
    "      #      vertex(axis_choice) == 0\n",
    "        vertex[axis_choice] = 1 - vertex[axis_choice]  #to replace the if-else\n",
    "        move_count += 1\n",
    "    return move_count\n",
    "\n",
    "print(number_of_moves(3)) #the needed steps for only one time\n",
    "number_of_trials = 100   #to test for trials times\n",
    "sum([number_of_moves(3) for i in range(number_of_trials)])/ number_of_trials #calculate the expectation\n",
    "trials = [number_of_moves(3) for i in range(number_of_trials)]  #to record the steps for each time and show\n",
    "print(trials)\n",
    "#initialize dictionary to count frequency of number of moves\n",
    "number_moves_count = {trial:0 for trial in trials}\n",
    "for trial in trials:\n",
    "    number_moves_count[trial] += 1\n",
    "number_moves_count\n",
    "\n"
   ]
  },
  {
   "cell_type": "code",
   "execution_count": null,
   "metadata": {},
   "outputs": [],
   "source": []
  },
  {
   "cell_type": "code",
   "execution_count": null,
   "metadata": {
    "collapsed": true
   },
   "outputs": [],
   "source": []
  },
  {
   "cell_type": "code",
   "execution_count": null,
   "metadata": {
    "collapsed": true
   },
   "outputs": [],
   "source": []
  }
 ],
 "metadata": {
  "kernelspec": {
   "display_name": "Python 3",
   "language": "python",
   "name": "python3"
  },
  "language_info": {
   "codemirror_mode": {
    "name": "ipython",
    "version": 3
   },
   "file_extension": ".py",
   "mimetype": "text/x-python",
   "name": "python",
   "nbconvert_exporter": "python",
   "pygments_lexer": "ipython3",
   "version": "3.6.1"
  }
 },
 "nbformat": 4,
 "nbformat_minor": 2
}

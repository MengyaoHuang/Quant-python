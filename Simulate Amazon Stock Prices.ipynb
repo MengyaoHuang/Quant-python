{
 "cells": [
  {
   "cell_type": "markdown",
   "metadata": {},
   "source": [
    "# Simulate Amazon stock prices\n",
    "Using historical data from for 2014-10-01 to 2016-09-30, computed historical returns in a Google Sheet, \n",
    "and now we will do a Monte Carlo simulation using the standard deviation of returns"
   ]
  },
  {
   "cell_type": "code",
   "execution_count": 24,
   "metadata": {},
   "outputs": [
    {
     "name": "stdout",
     "output_type": "stream",
     "text": [
      "Populating the interactive namespace from numpy and matplotlib\n",
      "15.9895233564\n",
      "840.027263033\n"
     ]
    },
    {
     "data": {
      "image/png": "[encoded data removed]",
      "text/plain": [
       "<matplotlib.figure.Figure at 0x1ba960f0048>"
      ]
     },
     "metadata": {},
     "output_type": "display_data"
    }
   ],
   "source": [
    "%pylab inline\n",
    "import numpy as np\n",
    "import matplotlib.pyplot as plt\n",
    "\n",
    "current_price = 837.31 \n",
    "sigma_one_day = 0.02\n",
    "\n",
    "#for Monte Carlo, we randomly generate log returns, apply to the current price to find simulated future prices.\n",
    "num_trials = 1000\n",
    "#generate random normal\n",
    "mean_daily_return = 0\n",
    "simulated_log_returns = np.random.normal(mean_daily_return, sigma_one_day,num_trials) #N(u,delta^2)distribution\n",
    "\n",
    "simulated_prices = [current_price * np.exp(ret) for ret in simulated_log_returns] #Pt+1=Pt*e^Rt,t+1\n",
    "\n",
    "num_bins = 500 \n",
    "price_sigma = np.std(simulated_prices) #calculate the standard variance of simulated_prices\n",
    "plt.hist(simulated_prices,bins = num_bins, normed = True,align = 'left',rwidth = 0.3,range = (current_price-3*price_sigma,current_price+3*price_sigma))\n",
    "\n",
    "simulated_prices\n",
    "print(np.std(simulated_prices)) \n",
    "print(simulated_prices[1])"
   ]
  },
  {
   "cell_type": "code",
   "execution_count": null,
   "metadata": {
    "collapsed": true
   },
   "outputs": [],
   "source": []
  }
 ],
 "metadata": {
  "kernelspec": {
   "display_name": "Python 3",
   "language": "python",
   "name": "python3"
  },
  "language_info": {
   "codemirror_mode": {
    "name": "ipython",
    "version": 3
   },
   "file_extension": ".py",
   "mimetype": "text/x-python",
   "name": "python",
   "nbconvert_exporter": "python",
   "pygments_lexer": "ipython3",
   "version": "3.6.1"
  }
 },
 "nbformat": 4,
 "nbformat_minor": 2
}

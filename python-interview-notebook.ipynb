{
 "cells": [
  {
   "cell_type": "markdown",
   "metadata": {},
   "source": [
    "### 1.1\n",
    "What is the value of $\\sqrt{2}^{\\sqrt{2}^{{\\sqrt{2}^{...}}}}$?"
   ]
  },
  {
   "cell_type": "code",
   "execution_count": 4,
   "metadata": {},
   "outputs": [
    {
     "name": "stdout",
     "output_type": "stream",
     "text": [
      "2.0000000000000004\n"
     ]
    }
   ],
   "source": [
    "import math\n",
    "exponent = 1\n",
    "for n in range(0,100000):\n",
    "    exponent = math.sqrt(2)**exponent #update the exponent\n",
    "print(exponent)\n"
   ]
  },
  {
   "cell_type": "markdown",
   "metadata": {},
   "source": [
    "### 3.1\n",
    "You have a bag with two coins. One will come up heads 40% of the time, and the other will come up heads 60%. You pick a coin randomly, flip it and get a head. What is the probability it will be heads on the next flip?"
   ]
  },
  {
   "cell_type": "code",
   "execution_count": 43,
   "metadata": {},
   "outputs": [
    {
     "name": "stdout",
     "output_type": "stream",
     "text": [
      "0.552\n",
      "0.5196834415584416\n"
     ]
    }
   ],
   "source": [
    "# Object-oriented version\n",
    "import numpy as np\n",
    "class Coin(object):\n",
    "    def __init__(self,p):\n",
    "        self.prob_heads = p #to make sure the chosen coin\n",
    "        \n",
    "    def flip_is_head(self):\n",
    "        # create a random number from 0 to 1 and decide head or tail\n",
    "        return np.random.random() < self.prob_heads #return True or False\n",
    "    \n",
    "    def __repr__(self):\n",
    "        return 'Coin with p = ' + str(self.prob_heads) #to represent the choice\n",
    "    \n",
    "class Bag_of_coins(object):\n",
    "    def __init__(self):\n",
    "        self.coins =[] #to create an vacant array\n",
    "    \n",
    "    def add_coins(self, coin):\n",
    "        self.coins.append(coin) #to add in the array\n",
    "    \n",
    "    def pick_random_coin(self):  #to choose one of them and continue the test with it\n",
    "        return np.random.choice(self.coins) #random.choice()\n",
    "\n",
    "bag = Bag_of_coins()\n",
    "#add this two coins in the self.coin[] array\n",
    "bag.add_coins(Coin(0.4)) #to make sure the coin you chose and add\n",
    "bag.add_coins(Coin(0.6)) #to make sure the coin you chose and add\n",
    "#bag.add_coins(Coin(1)) #code test\n",
    "bag.pick_random_coin()\n",
    "\n",
    "#Begin Our Test！\n",
    "num_trials = 1000\n",
    "trial_ctr = 0 #to give the initial value of counting\n",
    "head_ctr = 0\n",
    "\n",
    "while trial_ctr < num_trials:\n",
    "    coin = bag.pick_random_coin()\n",
    "    if coin.flip_is_head(): #to decide and count\n",
    "        trial_ctr = trial_ctr + 1\n",
    "        if coin.flip_is_head():\n",
    "            head_ctr = head_ctr + 1\n",
    "print(head_ctr/trial_ctr) #to calculate the frequency\n",
    "\n",
    "\n",
    "###################################################\n",
    "# Process-oriented:\n",
    "import random as rnd\n",
    "# Assume 0 = tails, 1 = heads\n",
    "def heads_or_tails(prob_tails):\n",
    "    if rnd.random() < prob_tails: #rnd.random creates 0 to 1\n",
    "        return 0 # tails\n",
    "    return 1 # heads\n",
    "\n",
    "first_flip_is_a_head_counter = 0 # count only trials where first flip is head\n",
    "second_flip_is_a_head_counter = 0 # and count how many of those had a 2nd head\n",
    "num_trials = 10000\n",
    "for trialCtr in range(num_trials):\n",
    "    if rnd.random() < 0.5: # reach into the bag and decide which coin you would use\n",
    "        prob_tails = 0.6 # heads 40% of the time\n",
    "    else:\n",
    "        prob_tails = 0.4 # heads 60% of the time \n",
    "    if heads_or_tails(prob_tails) == 1: #use the function and return True or False, flipped a head\n",
    "        first_flip_is_a_head_counter += 1\n",
    "        second_flip_is_a_head_counter += heads_or_tails(prob_tails) # heads_or_tails(prob_tails)maybe 0 or 1\n",
    "\n",
    "print(second_flip_is_a_head_counter/first_flip_is_a_head_counter)"
   ]
  },
  {
   "cell_type": "markdown",
   "metadata": {},
   "source": [
    "### 3.5\n",
    "Starting at one vertex of a cube, and moving randomly from vertex to adjacent vertices, what is the expected number of moves until you reach the  vertex opposite from your starting point?"
   ]
  },
  {
   "cell_type": "code",
   "execution_count": null,
   "metadata": {
    "collapsed": true
   },
   "outputs": [],
   "source": []
  },
  {
   "cell_type": "markdown",
   "metadata": {},
   "source": [
    "### 3.8\n",
    "You have a spinner that generates random numbers that are uniform between 0 and 1. You sum the spins until the sum is greater than one. What is the expected number of spins?"
   ]
  },
  {
   "cell_type": "code",
   "execution_count": 16,
   "metadata": {},
   "outputs": [
    {
     "name": "stdout",
     "output_type": "stream",
     "text": [
      "[4, 3, 2, 2, 4, 4, 3, 2, 3, 2, 4, 5, 2, 3, 2, 3, 2, 2, 2, 2, 3, 2, 3, 2, 2, 3, 2, 3, 4, 2, 3, 2, 3, 2, 3, 3, 2, 4, 2, 5, 3, 2, 4, 2, 2, 3, 3, 3, 3, 2, 3, 2, 3, 2, 2, 2, 3, 2, 2, 2, 2, 3, 2, 6, 2, 2, 2, 3, 2, 3, 2, 3, 2, 3, 2, 3, 4, 2, 2, 4, 2, 3, 2, 2, 2, 2, 3, 2, 3, 2, 2, 2, 2, 2, 2, 2, 2, 2, 2, 3]\n",
      "2.59\n",
      "6\n"
     ]
    }
   ],
   "source": [
    "import numpy as np #introduce multiple array\n",
    "class Spinner(object): #use class to define the whole act process\n",
    "    def __init__(self):  #to set the initial value\n",
    "        self.total = 0\n",
    "        self.spinCounter = 0\n",
    "    def spin(self): #to record the total value and spin times\n",
    "        self.total = self.total + np.random.random()\n",
    "        self.spinCounter = self.spinCounter + 1\n",
    "        \n",
    "    def reset(self): #to reset\n",
    "        self.total = 0\n",
    "        self.spinCounter = 0\n",
    "    \n",
    "    def spin_until_greater_than_one_and_reset(self):\n",
    "        while self.total < 1:\n",
    "            self.spin() #to continue span act until it reaches 1\n",
    "        answer = self.spinCounter\n",
    "        self.reset()\n",
    "        return answer   #return to the count number\n",
    "\n",
    "spinner = Spinner()\n",
    "numTrials = 100\n",
    "trials = [spinner.spin_until_greater_than_one_and_reset() for n in range(numTrials)] #to use spin_until function in Spinner for numTrials times\n",
    "\n",
    "print(trials) #to print all the results\n",
    "print(float(sum(trials))/numTrials)  #to calculate the average time\n",
    "print(np.max(trials))"
   ]
  },
  {
   "cell_type": "code",
   "execution_count": 13,
   "metadata": {},
   "outputs": [
    {
     "name": "stdout",
     "output_type": "stream",
     "text": [
      "Populating the interactive namespace from numpy and matplotlib\n"
     ]
    },
    {
     "data": {
      "text/plain": [
       "(array([ 0.49,  0.38,  0.07,  0.04,  0.01,  0.  ,  0.01]),\n",
       " array([ 2.,  3.,  4.,  5.,  6.,  7.,  8.,  9.]),\n",
       " <a list of 7 Patch objects>)"
      ]
     },
     "execution_count": 13,
     "metadata": {},
     "output_type": "execute_result"
    },
    {
     "data": {
      "image/png": "[encoded data removed]",
      "text/plain": [
       "<matplotlib.figure.Figure at 0x15a294cc518>"
      ]
     },
     "metadata": {},
     "output_type": "display_data"
    }
   ],
   "source": [
    "# need next line to get figure to appear in Jupyter\n",
    "%pylab inline\n",
    "import matplotlib.pyplot as plt #to plot figures\n",
    "\n",
    "numBins = np.max(trials) - np.min(trials) + 1\n",
    "plt.hist(trials, bins=numBins, normed=True, align='left', rwidth=0.3, range=(2, 2 + numBins))\n",
    "# plot.grid = True"
   ]
  },
  {
   "cell_type": "markdown",
   "metadata": {},
   "source": [
    "### 3.10\n",
    "A stick is broken randomly into 3 pieces. What is the probability of the pieces being able to form a triangle?"
   ]
  },
  {
   "cell_type": "code",
   "execution_count": null,
   "metadata": {
    "collapsed": true
   },
   "outputs": [],
   "source": []
  },
  {
   "cell_type": "markdown",
   "metadata": {},
   "source": [
    "### 3.11\n",
    "A stick is broken randomly into two pieces. The larger piece is then broken randomly into two pieces. What is the probability of the pieces being able to form a triangle?"
   ]
  },
  {
   "cell_type": "code",
   "execution_count": null,
   "metadata": {
    "collapsed": true
   },
   "outputs": [],
   "source": []
  },
  {
   "cell_type": "markdown",
   "metadata": {},
   "source": [
    "### 5.2\n",
    "You have a basket of $n$ assets. The asset returns are multivariate normal with zero mean. Correlation between any pair of assets is 1/2. What is the probability that $k$ of the assets will have positive return?"
   ]
  },
  {
   "cell_type": "code",
   "execution_count": null,
   "metadata": {
    "collapsed": true
   },
   "outputs": [],
   "source": []
  },
  {
   "cell_type": "markdown",
   "metadata": {},
   "source": [
    "### 3.12 \n",
    "This is based on a Goldman Sachs interview question. You play a game where you toss two fair coins in the air. You always win $1. However, if you have tossed 2 heads at least once, and 2 tails at least once, you surrender all winnings, and cannot play again. You may stop playing at anytime. What’s your strategy? simulate the two coins problem, plot the distribution of winnings, and compute the mean."
   ]
  },
  {
   "cell_type": "code",
   "execution_count": 4,
   "metadata": {},
   "outputs": [
    {
     "name": "stdout",
     "output_type": "stream",
     "text": [
      "Populating the interactive namespace from numpy and matplotlib\n"
     ]
    },
    {
     "data": {
      "text/plain": [
       "(array([ 0.28,  0.  ,  0.  ,  0.61,  0.05,  0.03,  0.02,  0.  ,  0.01]),\n",
       " array([ 0.,  1.,  2.,  3.,  4.,  5.,  6.,  7.,  8.,  9.]),\n",
       " <a list of 9 Patch objects>)"
      ]
     },
     "execution_count": 4,
     "metadata": {},
     "output_type": "execute_result"
    },
    {
     "data": {
      "image/png": "[encoded data removed]",
      "text/plain": [
       "<matplotlib.figure.Figure at 0x15a29116e10>"
      ]
     },
     "metadata": {},
     "output_type": "display_data"
    }
   ],
   "source": [
    "%pylab inline\n",
    "import numpy as np\n",
    "import matplotlib.pyplot as plt\n",
    "\n",
    "\n",
    "import numpy as np\n",
    "class TwoDiceGame(object):\n",
    "    def play(self):\n",
    "        winnings = 0  #define the original score\n",
    "        two_of_same_seen = False #to see the two scene\n",
    "        while True:\n",
    "            if two_of_same_seen:  #if we have seen one case and the winning overcomes 3,then quit\n",
    "                if winnings >= 3:\n",
    "                    #our strategy: quit if we have 3+ in this case\n",
    "                    return winnings\n",
    "                if np.random.randint(4) == 0: #if happens to seen the second case\n",
    "                    #bad luck: both HH and TT seen,lost it all\n",
    "                    return 0\n",
    "            else:\n",
    "                two_of_same_seen = np.random.randint(2) == 0 #the probability=0.5 for two different seen\n",
    "            winnings = winnings+1 #continue the game\n",
    "            \n",
    "            \n",
    "game = TwoDiceGame()\n",
    "num_trials = 100\n",
    "trials = [game.play()for _ in range(num_trials)]\n",
    "num_bins = np.max(trials)- np.min(trials) + 1\n",
    "plt.hist(trials, bins = num_bins, normed = True, align = 'left',rwidth = 0.3,range = (0, num_bins))"
   ]
  },
  {
   "cell_type": "code",
   "execution_count": null,
   "metadata": {
    "collapsed": true
   },
   "outputs": [],
   "source": []
  },
  {
   "cell_type": "code",
   "execution_count": null,
   "metadata": {
    "collapsed": true
   },
   "outputs": [],
   "source": []
  },
  {
   "cell_type": "code",
   "execution_count": null,
   "metadata": {
    "collapsed": true
   },
   "outputs": [],
   "source": []
  }
 ],
 "metadata": {
  "kernelspec": {
   "display_name": "Python 3",
   "language": "python",
   "name": "python3"
  },
  "language_info": {
   "codemirror_mode": {
    "name": "ipython",
    "version": 3
   },
   "file_extension": ".py",
   "mimetype": "text/x-python",
   "name": "python",
   "nbconvert_exporter": "python",
   "pygments_lexer": "ipython3",
   "version": "3.6.1"
  }
 },
 "nbformat": 4,
 "nbformat_minor": 1
}

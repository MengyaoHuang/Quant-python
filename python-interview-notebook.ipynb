{
 "cells": [
  {
   "cell_type": "markdown",
   "metadata": {},
   "source": [
    "### 1.1\n",
    "What is the value of $\\sqrt{2}^{\\sqrt{2}^{{\\sqrt{2}^{...}}}}$?"
   ]
  },
  {
   "cell_type": "code",
   "execution_count": 4,
   "metadata": {},
   "outputs": [
    {
     "name": "stdout",
     "output_type": "stream",
     "text": [
      "2.0000000000000004\n"
     ]
    }
   ],
   "source": [
    "import math\n",
    "exponent = 1\n",
    "for n in range(0,100000):\n",
    "    exponent = math.sqrt(2)**exponent #update the exponent\n",
    "print(exponent)\n"
   ]
  },
  {
   "cell_type": "markdown",
   "metadata": {},
   "source": [
    "### 3.1\n",
    "You have a bag with two coins. One will come up heads 40% of the time, and the other will come up heads 60%. You pick a coin randomly, flip it and get a head. What is the probability it will be heads on the next flip?"
   ]
  },
  {
   "cell_type": "code",
   "execution_count": 46,
   "metadata": {},
   "outputs": [
    {
     "ename": "TypeError",
     "evalue": "object() takes no parameters",
     "output_type": "error",
     "traceback": [
      "\u001b[1;31m---------------------------------------------------------------------------\u001b[0m",
      "\u001b[1;31mTypeError\u001b[0m                                 Traceback (most recent call last)",
      "\u001b[1;32m<ipython-input-46-9591b58228be>\u001b[0m in \u001b[0;36m<module>\u001b[1;34m()\u001b[0m\n\u001b[0;32m     21\u001b[0m         \u001b[1;32mreturn\u001b[0m \u001b[0mnp\u001b[0m\u001b[1;33m.\u001b[0m\u001b[0mrandom\u001b[0m\u001b[1;33m.\u001b[0m\u001b[0mchoice\u001b[0m\u001b[1;33m(\u001b[0m\u001b[0mself\u001b[0m\u001b[1;33m.\u001b[0m\u001b[0mcoins\u001b[0m\u001b[1;33m)\u001b[0m\u001b[1;33m\u001b[0m\u001b[0m\n\u001b[0;32m     22\u001b[0m \u001b[1;33m\u001b[0m\u001b[0m\n\u001b[1;32m---> 23\u001b[1;33m \u001b[0mx\u001b[0m \u001b[1;33m=\u001b[0m \u001b[0mCoin\u001b[0m\u001b[1;33m(\u001b[0m\u001b[1;36m0.6\u001b[0m\u001b[1;33m)\u001b[0m\u001b[1;33m\u001b[0m\u001b[0m\n\u001b[0m\u001b[0;32m     24\u001b[0m \u001b[0mbag\u001b[0m \u001b[1;33m=\u001b[0m \u001b[0mBagofcoins\u001b[0m\u001b[1;33m(\u001b[0m\u001b[1;33m)\u001b[0m\u001b[1;33m\u001b[0m\u001b[0m\n\u001b[0;32m     25\u001b[0m \u001b[0mbag\u001b[0m\u001b[1;33m.\u001b[0m\u001b[0maddcoins\u001b[0m\u001b[1;33m(\u001b[0m\u001b[0mCoin\u001b[0m\u001b[1;33m(\u001b[0m\u001b[1;36m0.4\u001b[0m\u001b[1;33m)\u001b[0m\u001b[1;33m)\u001b[0m\u001b[1;33m\u001b[0m\u001b[0m\n",
      "\u001b[1;31mTypeError\u001b[0m: object() takes no parameters"
     ]
    }
   ],
   "source": [
    "import random as rnd\n",
    "# Assume 0 = tails, 1  heads\n",
    "def headsOrTails(probTails):\n",
    "    if rnd.random() < probTails:\n",
    "        return 0 # tails!\n",
    "    return 1 # heads!\n",
    "\n",
    "firstFlipIsAHeadCounter = 0 #count only trials where first flip is head\n",
    "secondFlipIsAHeadCounter = 0 #and count how many of those had a 2nd head\n",
    "for trialCtr in range(10000):\n",
    "    if rnd.random() < 0.5: #reach into bag, and grab either coin\n",
    "        probTails = 0.6 #heads 40% of the time\n",
    "    else:\n",
    "        probTails = 0.4 #heads 60% of the time\n",
    "    if headsOrTails(probTails) == 1: #flipped a head\n",
    "        firstFlipIsAHeadCounter += 1\n",
    "        secondFlipIsAHeadCounter += headsOrTails(probTails) #second flip\n",
    "print (secondFlipIsAHeadCounter / firstFlipIsAHeadCounter)\n",
    "\n",
    "\n",
    "\n",
    "\n",
    "\n",
    "\n",
    "\n",
    "\n",
    "\n",
    "import numpy as np\n",
    "#to create multidimensional array\n",
    "\n",
    "class Coin(object):\n",
    "    def __init__(self, p):\n",
    "        self.prob_heads = p #to give the initial input for probability p\n",
    "        \n",
    "    def flip_is_head(self): #random choose and make sure whether it will flip head\n",
    "        return np.random.random() < self.prob_heads\n",
    "    #np.random.random means to create array of the given shape and populate it with random samples\n",
    "    #from a uniform distribution over 0 to 1.\n",
    "    \n",
    "    def __repr__(self): #to clarify the meaning of the parameters\n",
    "        return 'Coin with p = ' + str(self.prob_heads)\n",
    "\n",
    "    \n",
    "class Bag_of_coins(object):\n",
    "    def __init__(self):\n",
    "        self.coins = [] #to create \n",
    "    \n",
    "    \n",
    "    \n",
    "    \n",
    "    \n",
    "    \n",
    "    class Bag_of_coins(object):\n",
    "    def __init__(self):\n",
    "        self.coins = []\n",
    "        \n",
    "    def add_coins(self, coin):\n",
    "        self.coins.append(coin)\n",
    "            \n",
    "    def pick_random_coin(self):\n",
    "        return np.random.choice(self.coins)\n",
    "    \n",
    "    \n",
    "class Bagofcoins(object):\n",
    "    def init(self):\n",
    "        self.coins = []\n",
    "    \n",
    "    def addcoins(self, coin):\n",
    "        self.coins.append(coin)\n",
    "        \n",
    "    def pickrandomcoin(self):\n",
    "        return np.random.choice(self.coins)\n",
    "\n",
    "x = Coin(0.6)\n",
    "bag = Bagofcoins()\n",
    "bag.addcoins(Coin(0.4))\n",
    "bag.addcoins(Coin(0.6))\n",
    "bag.pickrandomcoin()\n",
    "\n",
    "num.trials = 1000\n",
    "trial.ctr = 0\n",
    "head.ctr = 0\n",
    "while trial.ctr < num.trials:\n",
    "    coin = bag.pickrandomcoin()\n",
    "    if coin.flipishead():\n",
    "        if coin.flipishead():\n",
    "            head.ctr += 1\n",
    "head.ctr / trial.ctr\n",
    "\n",
    "\n",
    "    \n",
    "class Bag_of_coins(object):\n",
    "    def __init__(self):\n",
    "        self.coins = []\n",
    "        \n",
    "    def add_coins(self, coin):\n",
    "        self.coins.append(coin)\n",
    "            \n",
    "    def pick_random_coin(self):\n",
    "        return np.random.choice(self.coins)\n",
    "    \n",
    "bag = Bag_of_coins()\n",
    "bag.add_coins(Coin(0.4))\n",
    "bag.add_coins(Coin(0.6))\n",
    "bag.pick_random_coin()\n",
    "\n",
    "num_trials = 1000\n",
    "trial_ctr = 0\n",
    "head_ctr = 0\n",
    "while trial_ctr < num_trials:\n",
    "    coin = bag.pick_random_coin()\n",
    "    if coin.flip_is_head():\n",
    "        trial_ctr += 1\n",
    "        if coin.flip_is_head():\n",
    "            head_ctr += 1\n",
    "head_ctr / trial_ctr\n",
    "\n",
    "\n",
    "\n",
    "\n",
    "\n",
    "\n",
    "\n"
   ]
  },
  {
   "cell_type": "markdown",
   "metadata": {},
   "source": [
    "### 3.5\n",
    "Starting at one vertex of a cube, and moving randomly from vertex to adjacent vertices, what is the expected number of moves until you reach the  vertex opposite from your starting point?"
   ]
  },
  {
   "cell_type": "code",
   "execution_count": null,
   "metadata": {
    "collapsed": true
   },
   "outputs": [],
   "source": []
  },
  {
   "cell_type": "markdown",
   "metadata": {},
   "source": [
    "### 3.8\n",
    "You have a spinner that generates random numbers that are uniform between 0 and 1. You sum the spins until the sum is greater than one. What is the expected number of spins?"
   ]
  },
  {
   "cell_type": "code",
   "execution_count": 45,
   "metadata": {},
   "outputs": [
    {
     "ename": "SyntaxError",
     "evalue": "invalid character in identifier (<ipython-input-45-deb467cdb921>, line 1)",
     "output_type": "error",
     "traceback": [
      "\u001b[1;36m  File \u001b[1;32m\"<ipython-input-45-deb467cdb921>\"\u001b[1;36m, line \u001b[1;32m1\u001b[0m\n\u001b[1;33m    ％pylab inline\u001b[0m\n\u001b[1;37m         ^\u001b[0m\n\u001b[1;31mSyntaxError\u001b[0m\u001b[1;31m:\u001b[0m invalid character in identifier\n"
     ]
    }
   ],
   "source": [
    "%pylab inline\n",
    "import numpy as np\n",
    "import matplotlib.pyplot as plt\n",
    "\n",
    "\n",
    "numtrials = 100\n",
    "trials = []\n",
    "\n",
    "def simulatenumberofspinstoexceedone():\n",
    "    summ = 0\n",
    "    count = 0\n",
    "    while summ <= 1:\n",
    "        summ += np.random.random()\n",
    "        count += 1\n",
    "    return count\n",
    "        \n",
    "# end up a list of the number of spins on each trial\n",
    "trials = [simulatenumberofspinstoexceedone() for i in range(numtrials)]\n",
    "numbins = np.max(trials)－np.min(trials) + 1\n",
    "pit.hist(trials, bins = numbins, normed = True, align = 'left',rwidth = 0.3,range = (2, 2 + numbins))\n",
    "\n",
    "np.mean(trials)\n"
   ]
  },
  {
   "cell_type": "code",
   "execution_count": null,
   "metadata": {
    "collapsed": true
   },
   "outputs": [],
   "source": []
  },
  {
   "cell_type": "markdown",
   "metadata": {},
   "source": [
    "### 3.10\n",
    "A stick is broken randomly into 3 pieces. What is the probability of the pieces being able to form a triangle?"
   ]
  },
  {
   "cell_type": "code",
   "execution_count": null,
   "metadata": {
    "collapsed": true
   },
   "outputs": [],
   "source": []
  },
  {
   "cell_type": "markdown",
   "metadata": {},
   "source": [
    "### 3.11\n",
    "A stick is broken randomly into two pieces. The larger piece is then broken randomly into two pieces. What is the probability of the pieces being able to form a triangle?"
   ]
  },
  {
   "cell_type": "code",
   "execution_count": null,
   "metadata": {
    "collapsed": true
   },
   "outputs": [],
   "source": []
  },
  {
   "cell_type": "markdown",
   "metadata": {},
   "source": [
    "### 5.2\n",
    "You have a basket of $n$ assets. The asset returns are multivariate normal with zero mean. Correlation between any pair of assets is 1/2. What is the probability that $k$ of the assets will have positive return?"
   ]
  },
  {
   "cell_type": "code",
   "execution_count": null,
   "metadata": {
    "collapsed": true
   },
   "outputs": [],
   "source": []
  },
  {
   "cell_type": "markdown",
   "metadata": {},
   "source": [
    "### 3.12 \n",
    "This is based on a Goldman Sachs interview question. You play a game where you toss two fair coins in the air. You always win $1. However, if you have tossed 2 heads at least once, and 2 tails at least once, you surrender all winnings, and cannot play again. You may stop playing at anytime. What’s your strategy? simulate the two coins problem, plot the distribution of winnings, and compute the mean."
   ]
  },
  {
   "cell_type": "code",
   "execution_count": 24,
   "metadata": {},
   "outputs": [
    {
     "name": "stdout",
     "output_type": "stream",
     "text": [
      "Populating the interactive namespace from numpy and matplotlib\n"
     ]
    },
    {
     "data": {
      "text/plain": [
       "(array([ 0.22,  0.  ,  0.  ,  0.62,  0.09,  0.02,  0.02,  0.01,  0.01,  0.01]),\n",
       " array([  0.,   1.,   2.,   3.,   4.,   5.,   6.,   7.,   8.,   9.,  10.]),\n",
       " <a list of 10 Patch objects>)"
      ]
     },
     "execution_count": 24,
     "metadata": {},
     "output_type": "execute_result"
    },
    {
     "data": {
      "image/png": "[encoded data removed]",
      "text/plain": [
       "<matplotlib.figure.Figure at 0x1f301c8f6d8>"
      ]
     },
     "metadata": {},
     "output_type": "display_data"
    }
   ],
   "source": [
    "%pylab inline\n",
    "import numpy as np\n",
    "import matplotlib.pyplot as plt\n",
    "\n",
    "\n",
    "import numpy as np\n",
    "class TwoDiceGame(object):\n",
    "    def play(self):\n",
    "        winnings = 0  #define the original score\n",
    "        two_of_same_seen = False #to see the two scene\n",
    "        while True:\n",
    "            if two_of_same_seen:  #if we have seen one case and the winning overcomes 3,then quit\n",
    "                if winnings >= 3:\n",
    "                    #our strategy: quit if we have 3+ in this case\n",
    "                    return winnings\n",
    "                if np.random.randint(4) == 0: #if happens to seen the second case\n",
    "                    #bad luck: both HH and TT seen,lost it all\n",
    "                    return 0\n",
    "            else:\n",
    "                two_of_same_seen = np.random.randint(2) == 0 #the probability=0.5 for two different seen\n",
    "            winnings = winnings+1 #continue the game\n",
    "            \n",
    "            \n",
    "game = TwoDiceGame()\n",
    "num_trials = 100\n",
    "trials = [game.play()for _ in range(num_trials)]\n",
    "num_bins = np.max(trials)- np.min(trials) + 1\n",
    "plt.hist(trials, bins = numbins, normed = True, align = 'left',rwidth = 0.3,range = (0, num_bins))"
   ]
  },
  {
   "cell_type": "code",
   "execution_count": null,
   "metadata": {
    "collapsed": true
   },
   "outputs": [],
   "source": []
  },
  {
   "cell_type": "code",
   "execution_count": null,
   "metadata": {
    "collapsed": true
   },
   "outputs": [],
   "source": []
  },
  {
   "cell_type": "code",
   "execution_count": null,
   "metadata": {
    "collapsed": true
   },
   "outputs": [],
   "source": []
  }
 ],
 "metadata": {
  "kernelspec": {
   "display_name": "Python 3",
   "language": "python",
   "name": "python3"
  },
  "language_info": {
   "codemirror_mode": {
    "name": "ipython",
    "version": 3
   },
   "file_extension": ".py",
   "mimetype": "text/x-python",
   "name": "python",
   "nbconvert_exporter": "python",
   "pygments_lexer": "ipython3",
   "version": "3.6.1"
  }
 },
 "nbformat": 4,
 "nbformat_minor": 1
}
